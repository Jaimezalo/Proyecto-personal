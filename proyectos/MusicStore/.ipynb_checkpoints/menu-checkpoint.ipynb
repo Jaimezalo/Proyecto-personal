{
 "cells": [
  {
   "cell_type": "markdown",
   "metadata": {
    "scrolled": true
   },
   "source": [
    "# *Proyecto Python*\n",
    "#### Autores:\n",
    "    - Guillermo Mesonero\n",
    "    - Jaime Zaloña\n",
    "#### Proyecto creado para gestionar la infrmación de un archivo XML.\n",
    "#### Las diferentes funciones que podemos encontrar son:\n",
    "    1. Mostrar el archivo XML por pantalla.\n",
    "    2. Abrir la página web donde se visualiza información del archivo XML.\n",
    "    3. Transformár el archivo XML a XSL.\n",
    "    4. Hacer una consulta XPATH introducida por el usuario.\n",
    "    5. Muestra un menú con diferentes opciones para visualizar."
   ]
  },
  {
   "cell_type": "markdown",
   "metadata": {},
   "source": [
    "## Limpia pantalla y pausa la pantalla"
   ]
  },
  {
   "cell_type": "code",
   "execution_count": 1,
   "metadata": {},
   "outputs": [],
   "source": [
    "#Limpia la pantalla \n",
    "def clear():\n",
    "    # ... si se ejecuta desde un terminal\n",
    "    os.system('cls' if os.name=='nt' else 'clear')\n",
    "    # ... si se ejecuta desde jupyter\n",
    "    clear_output()\n",
    "\n",
    "#Función para que haga una pausa y se puedan visualizar los datos en pantalla\n",
    "def pause():\n",
    "    #Funcion que pausa \n",
    "    pausador = input(\"Pulse intro para continuar\")\n",
    "    \n"
   ]
  },
  {
   "cell_type": "markdown",
   "metadata": {},
   "source": [
    "## Función que muestra el menú principal\n"
   ]
  },
  {
   "cell_type": "code",
   "execution_count": 2,
   "metadata": {},
   "outputs": [],
   "source": [
    "# función que muestra el menu principal    \n",
    "def menu():\n",
    "    \n",
    "    clear()\n",
    "    print(\"\"\" \n",
    "        *** MENU PRINCIPAL ***\n",
    "        1. Mostrar fichero XML\n",
    "        2. Mostrar página \"Music Store\"\n",
    "        3. Transformar con XSL\n",
    "        4. Filtrar búsqueda\n",
    "        5. Menú biblioteca\n",
    "        6. Salir\n",
    "        \"\"\")\n",
    "\n"
   ]
  },
  {
   "cell_type": "markdown",
   "metadata": {},
   "source": [
    "## Opción 1: mostrar el archivo XML"
   ]
  },
  {
   "cell_type": "code",
   "execution_count": 3,
   "metadata": {},
   "outputs": [],
   "source": [
    "#Muestra el archivo XML     \n",
    "def mostrarXML():\n",
    "    clear()\n",
    "    print(etree.tostring(biblioteca, pretty_print=True, xml_declaration=True, encoding=\"utf-8\").decode())\n",
    "    \n",
    "\n"
   ]
  },
  {
   "cell_type": "markdown",
   "metadata": {},
   "source": [
    "## Opción 2: abre la página web"
   ]
  },
  {
   "cell_type": "code",
   "execution_count": 4,
   "metadata": {},
   "outputs": [],
   "source": [
    "#Muestra la página web de Music Store\n",
    "def mostrarPagina():\n",
    "    webbrowser.open_new(\"login.html\")\n",
    "\n"
   ]
  },
  {
   "cell_type": "markdown",
   "metadata": {},
   "source": [
    "## Opción 3: Transformar archivo XML a XSL"
   ]
  },
  {
   "cell_type": "code",
   "execution_count": 5,
   "metadata": {},
   "outputs": [],
   "source": [
    "#Transforma el archivo XML a XSL\n",
    "def transformarXSL():\n",
    "    doc_xml = etree.parse('biblioteca.xml')\n",
    "    doc_xsl = etree.parse('biblioteca.xsl')\n",
    "    transform = etree.XSLT(doc_xsl)\n",
    "    resultado = transform(doc_xml)\n",
    "    clear()\n",
    "    print(str(resultado))\n",
    "    pause()\n",
    "    \n"
   ]
  },
  {
   "cell_type": "markdown",
   "metadata": {},
   "source": [
    "## Opción 4: Consulta XPath\n",
    "#### Pide una consulta XPATH al usuario y muestra por pantalla el resultado."
   ]
  },
  {
   "cell_type": "code",
   "execution_count": 6,
   "metadata": {},
   "outputs": [],
   "source": [
    "def filtrarXPath():\n",
    "    expresion = input(\"Introduzca expresión XPath: \")\n",
    "    lista_resultado = biblioteca.xpath(expresion)\n",
    "    for item in lista_resultado:\n",
    "        print(item)\n",
    "\n"
   ]
  },
  {
   "cell_type": "markdown",
   "metadata": {},
   "source": [
    "## Opción 5: Menu de biblioteca\n",
    "##### Muestra un menú de opciones para mostrar y el usuario elige que ver."
   ]
  },
  {
   "cell_type": "code",
   "execution_count": null,
   "metadata": {},
   "outputs": [],
   "source": []
  },
  {
   "cell_type": "code",
   "execution_count": 7,
   "metadata": {},
   "outputs": [],
   "source": [
    "\n",
    "def buscarDatos():\n",
    "    opcionMenu = 0\n",
    "    while opcionMenu != 5:\n",
    "        clear()\n",
    "        print(\"\"\" \n",
    "            MENU BIBLIOTECA:\n",
    "            1. Mostrar artistas\n",
    "            2. Mostrar albumnes\n",
    "            3. Mostrar canciones\n",
    "            4. Mostrar playlists\n",
    "            5. Salir\n",
    "            \"\"\")\n",
    "        opcionMenu = int(input(\"Seleccionar opcion [1-6]\"))\n",
    "       \n",
    "        if opcionMenu == 1: #Muestra un listado de artistas\n",
    "            xpath_string = '//artista/nombre/text()'  \n",
    "        elif opcionMenu == 2: #Muestra un listado de albumes\n",
    "            xpath_string = '//album/titulo/text()'\n",
    "        elif opcionMenu == 3: #Muestra un listado de canciones\n",
    "            xpath_string = '//cancion/titulo/text()' \n",
    "        elif opcionMenu == 4: #Muestra un listado de playlists\n",
    "            xpath_string = '//playlist/@nombre'\n",
    "        elif opcionMenu == 5: #Sale al menú principal\n",
    "            break\n",
    "\n",
    "        else:\n",
    "            print(\"Opcion incorrecta\")\n",
    "        results = biblioteca.xpath(xpath_string)\n",
    "        for item in results:\n",
    "            print(item)\n",
    "        pause()\n",
    "\n",
    "    \n"
   ]
  },
  {
   "cell_type": "markdown",
   "metadata": {},
   "source": [
    "## Programa principal"
   ]
  },
  {
   "cell_type": "code",
   "execution_count": 8,
   "metadata": {},
   "outputs": [
    {
     "name": "stdout",
     "output_type": "stream",
     "text": [
      " \n",
      "        *** MENU PRINCIPAL ***\n",
      "        1. Mostrar fichero XML\n",
      "        2. Mostrar página \"Music Store\"\n",
      "        3. Transformar con XSL\n",
      "        4. Filtrar búsqueda\n",
      "        5. Menú biblioteca\n",
      "        6. Salir\n",
      "        \n"
     ]
    },
    {
     "ename": "KeyboardInterrupt",
     "evalue": "",
     "output_type": "error",
     "traceback": [
      "\u001b[0;31m---------------------------------------------------------------------------\u001b[0m",
      "\u001b[0;31mKeyboardInterrupt\u001b[0m                         Traceback (most recent call last)",
      "\u001b[0;32m/opt/anaconda/lib/python3.7/site-packages/ipykernel/kernelbase.py\u001b[0m in \u001b[0;36m_input_request\u001b[0;34m(self, prompt, ident, parent, password)\u001b[0m\n\u001b[1;32m    728\u001b[0m             \u001b[0;32mtry\u001b[0m\u001b[0;34m:\u001b[0m\u001b[0;34m\u001b[0m\u001b[0m\n\u001b[0;32m--> 729\u001b[0;31m                 \u001b[0mident\u001b[0m\u001b[0;34m,\u001b[0m \u001b[0mreply\u001b[0m \u001b[0;34m=\u001b[0m \u001b[0mself\u001b[0m\u001b[0;34m.\u001b[0m\u001b[0msession\u001b[0m\u001b[0;34m.\u001b[0m\u001b[0mrecv\u001b[0m\u001b[0;34m(\u001b[0m\u001b[0mself\u001b[0m\u001b[0;34m.\u001b[0m\u001b[0mstdin_socket\u001b[0m\u001b[0;34m,\u001b[0m \u001b[0;36m0\u001b[0m\u001b[0;34m)\u001b[0m\u001b[0;34m\u001b[0m\u001b[0m\n\u001b[0m\u001b[1;32m    730\u001b[0m             \u001b[0;32mexcept\u001b[0m \u001b[0mException\u001b[0m\u001b[0;34m:\u001b[0m\u001b[0;34m\u001b[0m\u001b[0m\n",
      "\u001b[0;32m/opt/anaconda/lib/python3.7/site-packages/jupyter_client/session.py\u001b[0m in \u001b[0;36mrecv\u001b[0;34m(self, socket, mode, content, copy)\u001b[0m\n\u001b[1;32m    802\u001b[0m         \u001b[0;32mtry\u001b[0m\u001b[0;34m:\u001b[0m\u001b[0;34m\u001b[0m\u001b[0m\n\u001b[0;32m--> 803\u001b[0;31m             \u001b[0mmsg_list\u001b[0m \u001b[0;34m=\u001b[0m \u001b[0msocket\u001b[0m\u001b[0;34m.\u001b[0m\u001b[0mrecv_multipart\u001b[0m\u001b[0;34m(\u001b[0m\u001b[0mmode\u001b[0m\u001b[0;34m,\u001b[0m \u001b[0mcopy\u001b[0m\u001b[0;34m=\u001b[0m\u001b[0mcopy\u001b[0m\u001b[0;34m)\u001b[0m\u001b[0;34m\u001b[0m\u001b[0m\n\u001b[0m\u001b[1;32m    804\u001b[0m         \u001b[0;32mexcept\u001b[0m \u001b[0mzmq\u001b[0m\u001b[0;34m.\u001b[0m\u001b[0mZMQError\u001b[0m \u001b[0;32mas\u001b[0m \u001b[0me\u001b[0m\u001b[0;34m:\u001b[0m\u001b[0;34m\u001b[0m\u001b[0m\n",
      "\u001b[0;32m/opt/anaconda/lib/python3.7/site-packages/zmq/sugar/socket.py\u001b[0m in \u001b[0;36mrecv_multipart\u001b[0;34m(self, flags, copy, track)\u001b[0m\n\u001b[1;32m    466\u001b[0m         \"\"\"\n\u001b[0;32m--> 467\u001b[0;31m         \u001b[0mparts\u001b[0m \u001b[0;34m=\u001b[0m \u001b[0;34m[\u001b[0m\u001b[0mself\u001b[0m\u001b[0;34m.\u001b[0m\u001b[0mrecv\u001b[0m\u001b[0;34m(\u001b[0m\u001b[0mflags\u001b[0m\u001b[0;34m,\u001b[0m \u001b[0mcopy\u001b[0m\u001b[0;34m=\u001b[0m\u001b[0mcopy\u001b[0m\u001b[0;34m,\u001b[0m \u001b[0mtrack\u001b[0m\u001b[0;34m=\u001b[0m\u001b[0mtrack\u001b[0m\u001b[0;34m)\u001b[0m\u001b[0;34m]\u001b[0m\u001b[0;34m\u001b[0m\u001b[0m\n\u001b[0m\u001b[1;32m    468\u001b[0m         \u001b[0;31m# have first part already, only loop while more to receive\u001b[0m\u001b[0;34m\u001b[0m\u001b[0;34m\u001b[0m\u001b[0m\n",
      "\u001b[0;32mzmq/backend/cython/socket.pyx\u001b[0m in \u001b[0;36mzmq.backend.cython.socket.Socket.recv\u001b[0;34m()\u001b[0m\n",
      "\u001b[0;32mzmq/backend/cython/socket.pyx\u001b[0m in \u001b[0;36mzmq.backend.cython.socket.Socket.recv\u001b[0;34m()\u001b[0m\n",
      "\u001b[0;32mzmq/backend/cython/socket.pyx\u001b[0m in \u001b[0;36mzmq.backend.cython.socket._recv_copy\u001b[0;34m()\u001b[0m\n",
      "\u001b[0;32m/opt/anaconda/lib/python3.7/site-packages/zmq/backend/cython/checkrc.pxd\u001b[0m in \u001b[0;36mzmq.backend.cython.checkrc._check_rc\u001b[0;34m()\u001b[0m\n",
      "\u001b[0;31mKeyboardInterrupt\u001b[0m: ",
      "\nDuring handling of the above exception, another exception occurred:\n",
      "\u001b[0;31mKeyboardInterrupt\u001b[0m                         Traceback (most recent call last)",
      "\u001b[0;32m<ipython-input-8-51e6b93ad6dc>\u001b[0m in \u001b[0;36m<module>\u001b[0;34m()\u001b[0m\n\u001b[1;32m     13\u001b[0m \u001b[0;34m\u001b[0m\u001b[0m\n\u001b[1;32m     14\u001b[0m     \u001b[0;31m# Introducir opción\u001b[0m\u001b[0;34m\u001b[0m\u001b[0;34m\u001b[0m\u001b[0m\n\u001b[0;32m---> 15\u001b[0;31m     \u001b[0mopcionMenu\u001b[0m \u001b[0;34m=\u001b[0m \u001b[0mint\u001b[0m\u001b[0;34m(\u001b[0m\u001b[0minput\u001b[0m\u001b[0;34m(\u001b[0m\u001b[0;34m\"Seleccionar opcion [1-6]\"\u001b[0m\u001b[0;34m)\u001b[0m\u001b[0;34m)\u001b[0m\u001b[0;34m\u001b[0m\u001b[0m\n\u001b[0m\u001b[1;32m     16\u001b[0m \u001b[0;34m\u001b[0m\u001b[0m\n\u001b[1;32m     17\u001b[0m     \u001b[0;32mif\u001b[0m \u001b[0mopcionMenu\u001b[0m \u001b[0;34m==\u001b[0m \u001b[0;36m1\u001b[0m\u001b[0;34m:\u001b[0m\u001b[0;34m\u001b[0m\u001b[0m\n",
      "\u001b[0;32m/opt/anaconda/lib/python3.7/site-packages/ipykernel/kernelbase.py\u001b[0m in \u001b[0;36mraw_input\u001b[0;34m(self, prompt)\u001b[0m\n\u001b[1;32m    702\u001b[0m             \u001b[0mself\u001b[0m\u001b[0;34m.\u001b[0m\u001b[0m_parent_ident\u001b[0m\u001b[0;34m,\u001b[0m\u001b[0;34m\u001b[0m\u001b[0m\n\u001b[1;32m    703\u001b[0m             \u001b[0mself\u001b[0m\u001b[0;34m.\u001b[0m\u001b[0m_parent_header\u001b[0m\u001b[0;34m,\u001b[0m\u001b[0;34m\u001b[0m\u001b[0m\n\u001b[0;32m--> 704\u001b[0;31m             \u001b[0mpassword\u001b[0m\u001b[0;34m=\u001b[0m\u001b[0;32mFalse\u001b[0m\u001b[0;34m,\u001b[0m\u001b[0;34m\u001b[0m\u001b[0m\n\u001b[0m\u001b[1;32m    705\u001b[0m         )\n\u001b[1;32m    706\u001b[0m \u001b[0;34m\u001b[0m\u001b[0m\n",
      "\u001b[0;32m/opt/anaconda/lib/python3.7/site-packages/ipykernel/kernelbase.py\u001b[0m in \u001b[0;36m_input_request\u001b[0;34m(self, prompt, ident, parent, password)\u001b[0m\n\u001b[1;32m    732\u001b[0m             \u001b[0;32mexcept\u001b[0m \u001b[0mKeyboardInterrupt\u001b[0m\u001b[0;34m:\u001b[0m\u001b[0;34m\u001b[0m\u001b[0m\n\u001b[1;32m    733\u001b[0m                 \u001b[0;31m# re-raise KeyboardInterrupt, to truncate traceback\u001b[0m\u001b[0;34m\u001b[0m\u001b[0;34m\u001b[0m\u001b[0m\n\u001b[0;32m--> 734\u001b[0;31m                 \u001b[0;32mraise\u001b[0m \u001b[0mKeyboardInterrupt\u001b[0m\u001b[0;34m\u001b[0m\u001b[0m\n\u001b[0m\u001b[1;32m    735\u001b[0m             \u001b[0;32melse\u001b[0m\u001b[0;34m:\u001b[0m\u001b[0;34m\u001b[0m\u001b[0m\n\u001b[1;32m    736\u001b[0m                 \u001b[0;32mbreak\u001b[0m\u001b[0;34m\u001b[0m\u001b[0m\n",
      "\u001b[0;31mKeyboardInterrupt\u001b[0m: "
     ]
    }
   ],
   "source": [
    "import os\n",
    "from lxml import etree\n",
    "import time\n",
    "import webbrowser\n",
    "import pprint\n",
    "import json\n",
    "from IPython.display import clear_output\n",
    "\n",
    "while True:\n",
    "    biblioteca = etree.parse(\"biblioteca.xml\") \n",
    "    \n",
    "    menu() # Mostramos el menu   \n",
    "    \n",
    "    opcionMenu = int(input(\"Seleccionar opcion [1-6]\")) # Introducir opción\n",
    "\n",
    "    if opcionMenu == 1:\n",
    "        mostrarXML()\n",
    "        pause()    \n",
    "    elif opcionMenu == 2:\n",
    "        mostrarPagina()   \n",
    "    elif opcionMenu == 3:\n",
    "        transformarXSL()  \n",
    "    elif opcionMenu == 4:\n",
    "        filtrarXPath()\n",
    "        pause()\n",
    "    elif opcionMenu == 5:\n",
    "        buscarDatos()\n",
    "    elif opcionMenu == 6:\n",
    "        print(\"Hasta pronto\")\n",
    "        time.sleep(5)\n",
    "        break\n",
    "    else:\n",
    "        print(\"Opcion incorrecta.\")"
   ]
  },
  {
   "cell_type": "code",
   "execution_count": null,
   "metadata": {},
   "outputs": [],
   "source": []
  }
 ],
 "metadata": {
  "kernelspec": {
   "display_name": "Python 3",
   "language": "python",
   "name": "python3"
  },
  "language_info": {
   "codemirror_mode": {
    "name": "ipython",
    "version": 3
   },
   "file_extension": ".py",
   "mimetype": "text/x-python",
   "name": "python",
   "nbconvert_exporter": "python",
   "pygments_lexer": "ipython3",
   "version": "3.7.0"
  }
 },
 "nbformat": 4,
 "nbformat_minor": 2
}
