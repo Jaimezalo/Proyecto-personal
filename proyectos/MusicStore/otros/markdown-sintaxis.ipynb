{
 "cells": [
  {
   "cell_type": "markdown",
   "metadata": {},
   "source": [
    "# Encabezado nivel h1\n",
    "## Encabezado nivel h2\n",
    "### Encabezado nivel h3"
   ]
  },
  {
   "cell_type": "markdown",
   "metadata": {},
   "source": [
    "### lista no numerada\n",
    "- item1\n",
    "- item2\n",
    "   - item 2.1"
   ]
  },
  {
   "cell_type": "markdown",
   "metadata": {},
   "source": [
    "### lista numerada\n",
    "1. item1\n",
    "2. item2\n",
    "    1. item a\n",
    "    2. item b\n",
    "    "
   ]
  },
  {
   "cell_type": "markdown",
   "metadata": {},
   "source": [
    "### resaltados\n",
    "\n",
    "*cursiva* o\n",
    "_cursiva_\n",
    "\n",
    "__negrita__ o\n",
    "**negrita**\n",
    "\n",
    "`monospace`\n"
   ]
  },
  {
   "cell_type": "markdown",
   "metadata": {},
   "source": [
    "> sangría"
   ]
  },
  {
   "cell_type": "markdown",
   "metadata": {},
   "source": [
    "### enlaces\n",
    "\n",
    "[enlace a wikipedia](http://es.wikipedia.org)"
   ]
  },
  {
   "cell_type": "markdown",
   "metadata": {},
   "source": [
    "### tablas\n",
    "\n",
    "cabecera1 | cabecera2 \n",
    "----------|----------\n",
    "celda1    |  celda2  "
   ]
  },
  {
   "cell_type": "code",
   "execution_count": null,
   "metadata": {},
   "outputs": [],
   "source": []
  }
 ],
 "metadata": {
  "kernelspec": {
   "display_name": "Python 3",
   "language": "python",
   "name": "python3"
  },
  "language_info": {
   "codemirror_mode": {
    "name": "ipython",
    "version": 3
   },
   "file_extension": ".py",
   "mimetype": "text/x-python",
   "name": "python",
   "nbconvert_exporter": "python",
   "pygments_lexer": "ipython3",
   "version": "3.7.0"
  }
 },
 "nbformat": 4,
 "nbformat_minor": 2
}
